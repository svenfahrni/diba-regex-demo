{
  "nbformat": 4,
  "nbformat_minor": 0,
  "metadata": {
    "colab": {
      "name": "keras_intro_HSLuzern.ipynb",
      "provenance": [],
      "collapsed_sections": [],
      "include_colab_link": true
    },
    "kernelspec": {
      "name": "python3",
      "display_name": "Python 3"
    }
  },
  "cells": [
    {
      "cell_type": "markdown",
      "metadata": {
        "id": "view-in-github",
        "colab_type": "text"
      },
      "source": [
        "<a href=\"https://colab.research.google.com/github/svenfahrni/diba-regex-demo/blob/main/keras_intro_HSLuzern.ipynb\" target=\"_parent\"><img src=\"https://colab.research.google.com/assets/colab-badge.svg\" alt=\"Open In Colab\"/></a>"
      ]
    },
    {
      "cell_type": "markdown",
      "metadata": {
        "id": "LqqLHTWP9wdQ"
      },
      "source": [
        "Source: https://www.tensorflow.org/tutorials\n"
      ]
    },
    {
      "cell_type": "code",
      "metadata": {
        "id": "PQU8ong8Iym0"
      },
      "source": [
        "try:\n",
        "  # %tensorflow_version only exists in Colab.\n",
        "  %tensorflow_version 2.x\n",
        "except Exception:\n",
        "  pass\n"
      ],
      "execution_count": 1,
      "outputs": []
    },
    {
      "cell_type": "markdown",
      "metadata": {
        "id": "Uc2rB4f7H9lj"
      },
      "source": [
        "Install required packages. Numpy is for mathematical operations. Matplotlib.pyplot is for plotting. \n",
        "Tensorflow is a library used for neural networks. Keras is a neural network library within tensorflow."
      ]
    },
    {
      "cell_type": "code",
      "metadata": {
        "id": "KiV2-JDA3YF0"
      },
      "source": [
        "from __future__ import absolute_import, division, print_function, unicode_literals\n",
        "\n",
        "# TensorFlow and tf.keras\n",
        "import tensorflow as tf\n",
        "from tensorflow import keras\n",
        "\n",
        "# Helper libraries\n",
        "import numpy as np\n",
        "import matplotlib.pyplot as plt"
      ],
      "execution_count": null,
      "outputs": []
    },
    {
      "cell_type": "markdown",
      "metadata": {
        "id": "zkzXx2SPH8iL"
      },
      "source": [
        "Read in the data. The data is available from keras library."
      ]
    },
    {
      "cell_type": "code",
      "metadata": {
        "id": "QYuLqUTxH18l",
        "colab": {
          "base_uri": "https://localhost:8080/"
        },
        "outputId": "10beec15-e5e7-4d82-8bbe-b68582afcd38"
      },
      "source": [
        "fashion_mnist = keras.datasets.fashion_mnist\n",
        "\n",
        "(train_images, train_labels), (test_images, test_labels) = fashion_mnist.load_data()"
      ],
      "execution_count": null,
      "outputs": [
        {
          "output_type": "stream",
          "name": "stdout",
          "text": [
            "Downloading data from https://storage.googleapis.com/tensorflow/tf-keras-datasets/train-labels-idx1-ubyte.gz\n",
            "32768/29515 [=================================] - 0s 0us/step\n",
            "40960/29515 [=========================================] - 0s 0us/step\n",
            "Downloading data from https://storage.googleapis.com/tensorflow/tf-keras-datasets/train-images-idx3-ubyte.gz\n",
            "26427392/26421880 [==============================] - 0s 0us/step\n",
            "26435584/26421880 [==============================] - 0s 0us/step\n",
            "Downloading data from https://storage.googleapis.com/tensorflow/tf-keras-datasets/t10k-labels-idx1-ubyte.gz\n",
            "16384/5148 [===============================================================================================] - 0s 0us/step\n",
            "Downloading data from https://storage.googleapis.com/tensorflow/tf-keras-datasets/t10k-images-idx3-ubyte.gz\n",
            "4423680/4422102 [==============================] - 0s 0us/step\n",
            "4431872/4422102 [==============================] - 0s 0us/step\n"
          ]
        }
      ]
    },
    {
      "cell_type": "markdown",
      "metadata": {
        "id": "i8e0wXe__AqU"
      },
      "source": [
        "Add class names (by default classes are only numbers)."
      ]
    },
    {
      "cell_type": "code",
      "metadata": {
        "id": "BVTdJhjXIQ1j"
      },
      "source": [
        "class_names = ['T-shirt/top', 'Trouser', 'Pullover', 'Dress', 'Coat',\n",
        "               'Sandal', 'Shirt', 'Sneaker', 'Bag', 'Ankle boot']"
      ],
      "execution_count": null,
      "outputs": []
    },
    {
      "cell_type": "markdown",
      "metadata": {
        "id": "DR-dBaNlAr4M"
      },
      "source": [
        "Check the dimension of the training set of images."
      ]
    },
    {
      "cell_type": "code",
      "metadata": {
        "id": "NNV6LGqYIS4I",
        "colab": {
          "base_uri": "https://localhost:8080/"
        },
        "outputId": "e81c903f-5a9a-4a35-a25a-cc1062a52f2c"
      },
      "source": [
        "train_images.shape"
      ],
      "execution_count": null,
      "outputs": [
        {
          "output_type": "execute_result",
          "data": {
            "text/plain": [
              "(60000, 28, 28)"
            ]
          },
          "metadata": {},
          "execution_count": 6
        }
      ]
    },
    {
      "cell_type": "markdown",
      "metadata": {
        "id": "_5WKEgSVAy3-"
      },
      "source": [
        "Check the length of the labels for the training set."
      ]
    },
    {
      "cell_type": "code",
      "metadata": {
        "id": "OzT4WyTwNfUt",
        "colab": {
          "base_uri": "https://localhost:8080/"
        },
        "outputId": "04674f41-aad8-4c91-e65b-731b77f99343"
      },
      "source": [
        "len(train_labels)"
      ],
      "execution_count": null,
      "outputs": [
        {
          "output_type": "execute_result",
          "data": {
            "text/plain": [
              "60000"
            ]
          },
          "metadata": {},
          "execution_count": 7
        }
      ]
    },
    {
      "cell_type": "markdown",
      "metadata": {
        "id": "XZxniHeJBiym"
      },
      "source": [
        "Have a look at the labels of the training set."
      ]
    },
    {
      "cell_type": "code",
      "metadata": {
        "id": "6HGDZuzLNfg1",
        "colab": {
          "base_uri": "https://localhost:8080/"
        },
        "outputId": "82274853-2433-474f-f71d-d80093c53b47"
      },
      "source": [
        "train_labels"
      ],
      "execution_count": null,
      "outputs": [
        {
          "output_type": "execute_result",
          "data": {
            "text/plain": [
              "array([9, 0, 0, ..., 3, 0, 5], dtype=uint8)"
            ]
          },
          "metadata": {},
          "execution_count": 8
        }
      ]
    },
    {
      "cell_type": "markdown",
      "metadata": {
        "id": "6l-HQ-zvBnHz"
      },
      "source": [
        "Check the dimentions of the test set of images."
      ]
    },
    {
      "cell_type": "code",
      "metadata": {
        "id": "G0nwZTMyNftx",
        "colab": {
          "base_uri": "https://localhost:8080/"
        },
        "outputId": "700667ff-c95e-4b3f-a356-02a1df11e698"
      },
      "source": [
        "test_images.shape"
      ],
      "execution_count": null,
      "outputs": [
        {
          "output_type": "execute_result",
          "data": {
            "text/plain": [
              "(10000, 28, 28)"
            ]
          },
          "metadata": {},
          "execution_count": 9
        }
      ]
    },
    {
      "cell_type": "markdown",
      "metadata": {
        "id": "da9CjFwGBwoV"
      },
      "source": [
        "Check the lenght of the vector of labels for the testing set"
      ]
    },
    {
      "cell_type": "code",
      "metadata": {
        "id": "-h6fW3-MNf5j",
        "colab": {
          "base_uri": "https://localhost:8080/"
        },
        "outputId": "984d7888-7748-4bf7-f7e8-ebdedadf7a68"
      },
      "source": [
        "len(test_labels)"
      ],
      "execution_count": null,
      "outputs": [
        {
          "output_type": "execute_result",
          "data": {
            "text/plain": [
              "10000"
            ]
          },
          "metadata": {},
          "execution_count": 10
        }
      ]
    },
    {
      "cell_type": "markdown",
      "metadata": {
        "id": "e5DdAN29IivS"
      },
      "source": [
        "Preprocess the data"
      ]
    },
    {
      "cell_type": "code",
      "metadata": {
        "id": "seo_IHEPIjFC",
        "colab": {
          "base_uri": "https://localhost:8080/",
          "height": 265
        },
        "outputId": "ef75551e-5dcc-4e58-c9a3-d654778f4fa7"
      },
      "source": [
        "plt.figure()  # create new figure\n",
        "plt.imshow(train_images[1]) # show the first image from the training set. How could you show the 10th image?\n",
        "#plt.colorbar() # add the colorbar to the plot. See what happens when you remove this line\n",
        "plt.grid(False) # Do not show the grid on the plot. See what happens if you change False to True\n"
      ],
      "execution_count": null,
      "outputs": [
        {
          "output_type": "display_data",
          "data": {
            "text/plain": [
              "<Figure size 432x288 with 1 Axes>"
            ],
            "image/png": "[encoded data removed]"
          },
          "metadata": {
            "needs_background": "light"
          }
        }
      ]
    },
    {
      "cell_type": "markdown",
      "metadata": {
        "id": "1B5mpUOuCuDD"
      },
      "source": [
        "Scale the values in the images to the range 0-1"
      ]
    },
    {
      "cell_type": "code",
      "metadata": {
        "id": "AkARl85aJsOp"
      },
      "source": [
        "train_images = train_images / 255.0\n",
        "\n",
        "test_images = test_images / 255.0\n"
      ],
      "execution_count": null,
      "outputs": []
    },
    {
      "cell_type": "code",
      "metadata": {
        "id": "DQ2wySgoJzB6",
        "colab": {
          "base_uri": "https://localhost:8080/",
          "height": 608
        },
        "outputId": "d6106efc-c6a6-48f3-e4c1-098e69fe9c00"
      },
      "source": [
        "plt.figure(figsize=(10,10))\n",
        "for i in range(25):\n",
        "    plt.subplot(5,5,i+1) # split plot into 5 x 5 table. Use the i+1 place to plot the next image. \n",
        "  # plt.xticks([])\n",
        "  # plt.yticks([])\n",
        "  # plt.grid(False)\n",
        "    plt.imshow(train_images[i], cmap=plt.cm.binary) # plt.cm.binary allows to show black-white image. \n",
        "    #Check what happens if you uncomment the rest of the line\n",
        "    plt.xlabel(class_names[train_labels[i]])\n",
        "plt.show()"
      ],
      "execution_count": null,
      "outputs": [
        {
          "output_type": "display_data",
          "data": {
            "text/plain": [
              "<Figure size 720x720 with 25 Axes>"
            ],
            "image/png": "[encoded data removed]"
          },
          "metadata": {
            "needs_background": "light"
          }
        }
      ]
    },
    {
      "cell_type": "markdown",
      "metadata": {
        "id": "-f4U4GQhPAn7"
      },
      "source": [
        "Build the model. We are adding different layers to the network, which well be trained later on the training data set. The parameters of these layers will be learned during training. The first layer, Flatten, has no parameters to learn; it only reformats the data."
      ]
    },
    {
      "cell_type": "code",
      "metadata": {
        "id": "MNKI0rCJO0mV"
      },
      "source": [
        "model = keras.Sequential([\n",
        "    keras.layers.Flatten(input_shape=(28, 28)),\n",
        "    keras.layers.Dense(128, activation='relu'),\n",
        "    keras.layers.Dense(64, activation='relu'),\n",
        "    keras.layers.Dense(32, activation='relu'),\n",
        "    keras.layers.Dense(10)\n",
        "])"
      ],
      "execution_count": null,
      "outputs": []
    },
    {
      "cell_type": "markdown",
      "metadata": {
        "id": "C1uAx0QsQgUu"
      },
      "source": [
        "Setting more parameters of the model - what exactly we would like to optimize."
      ]
    },
    {
      "cell_type": "code",
      "metadata": {
        "id": "S_BfVulQO_xJ"
      },
      "source": [
        "model.compile(optimizer='adam',\n",
        "              loss=tf.keras.losses.SparseCategoricalCrossentropy(from_logits=True),\n",
        "              metrics=['accuracy'])"
      ],
      "execution_count": null,
      "outputs": []
    },
    {
      "cell_type": "markdown",
      "metadata": {
        "id": "pLaS1X8vRAqB"
      },
      "source": [
        "Train the model\n",
        "Training the neural network model requires the following steps:\n",
        "\n",
        "1. Feed the training data to the model. In this example, the training data is in the train_images and train_labels arrays.\n",
        "2. The model learns to associate images and labels.\n",
        "3. You ask the model to make predictions about a test set—in this example, the test_images array.\n",
        "4. Verify that the predictions match the labels from the test_labels array."
      ]
    },
    {
      "cell_type": "markdown",
      "metadata": {
        "id": "wp3Kcf6aRGTg"
      },
      "source": [
        "Feed the data into the model. The learning process will be repreated 10 times (number of epochs)."
      ]
    },
    {
      "cell_type": "code",
      "metadata": {
        "id": "hbyBYGHgPP6J",
        "colab": {
          "base_uri": "https://localhost:8080/"
        },
        "outputId": "b41943b5-ebeb-4e74-ec4d-0bba0bf72dcd"
      },
      "source": [
        "model.fit(train_images, train_labels, epochs=10)"
      ],
      "execution_count": null,
      "outputs": [
        {
          "output_type": "stream",
          "name": "stdout",
          "text": [
            "Epoch 1/10\n",
            "1875/1875 [==============================] - 5s 2ms/step - loss: 0.5142 - accuracy: 0.8137\n",
            "Epoch 2/10\n",
            "1875/1875 [==============================] - 4s 2ms/step - loss: 0.3745 - accuracy: 0.8616\n",
            "Epoch 3/10\n",
            "1875/1875 [==============================] - 4s 2ms/step - loss: 0.3377 - accuracy: 0.8749\n",
            "Epoch 4/10\n",
            "1875/1875 [==============================] - 4s 2ms/step - loss: 0.3159 - accuracy: 0.8823\n",
            "Epoch 5/10\n",
            "1875/1875 [==============================] - 4s 2ms/step - loss: 0.2972 - accuracy: 0.8885\n",
            "Epoch 6/10\n",
            "1875/1875 [==============================] - 4s 2ms/step - loss: 0.2856 - accuracy: 0.8933\n",
            "Epoch 7/10\n",
            "1875/1875 [==============================] - 4s 2ms/step - loss: 0.2727 - accuracy: 0.8978\n",
            "Epoch 8/10\n",
            "1875/1875 [==============================] - 4s 2ms/step - loss: 0.2614 - accuracy: 0.9006\n",
            "Epoch 9/10\n",
            "1875/1875 [==============================] - 4s 2ms/step - loss: 0.2501 - accuracy: 0.9063\n",
            "Epoch 10/10\n",
            "1875/1875 [==============================] - 4s 2ms/step - loss: 0.2435 - accuracy: 0.9077\n"
          ]
        },
        {
          "output_type": "execute_result",
          "data": {
            "text/plain": [
              "<keras.callbacks.History at 0x7f24ebc69210>"
            ]
          },
          "metadata": {},
          "execution_count": 21
        }
      ]
    },
    {
      "cell_type": "markdown",
      "metadata": {
        "id": "RJER84h_RUaJ"
      },
      "source": [
        "Evaluate accuracy"
      ]
    },
    {
      "cell_type": "code",
      "metadata": {
        "id": "kGkKdxAmPT5z",
        "colab": {
          "base_uri": "https://localhost:8080/"
        },
        "outputId": "15b244c7-9252-454c-a413-b04ff2eda85a"
      },
      "source": [
        "test_loss, test_acc = model.evaluate(test_images,  test_labels, verbose=2)\n",
        "\n",
        "print('\\nTest accuracy:', test_acc)"
      ],
      "execution_count": null,
      "outputs": [
        {
          "output_type": "stream",
          "name": "stdout",
          "text": [
            "313/313 - 1s - loss: 0.3462 - accuracy: 0.8805 - 513ms/epoch - 2ms/step\n",
            "\n",
            "Test accuracy: 0.8805000185966492\n"
          ]
        }
      ]
    },
    {
      "cell_type": "markdown",
      "metadata": {
        "id": "E3nN0rLgfYYN"
      },
      "source": [
        "Make predicitons"
      ]
    },
    {
      "cell_type": "code",
      "metadata": {
        "id": "_53Wl8-dfRu5"
      },
      "source": [
        "probability_model = tf.keras.Sequential([model, \n",
        "                                         tf.keras.layers.Softmax()])"
      ],
      "execution_count": null,
      "outputs": []
    },
    {
      "cell_type": "code",
      "metadata": {
        "id": "vNAh--iOfXNS"
      },
      "source": [
        "predictions = probability_model.predict(test_images)"
      ],
      "execution_count": null,
      "outputs": []
    },
    {
      "cell_type": "code",
      "metadata": {
        "id": "DKzOB87LfmXU",
        "colab": {
          "base_uri": "https://localhost:8080/"
        },
        "outputId": "a9e6b6ed-37b3-4f0a-a234-cdb1778f6a86"
      },
      "source": [
        "predictions[0]"
      ],
      "execution_count": null,
      "outputs": [
        {
          "output_type": "execute_result",
          "data": {
            "text/plain": [
              "array([7.77961418e-07, 1.09569865e-13, 1.76196572e-05, 1.66146261e-08,\n",
              "       4.02004588e-07, 1.06930197e-03, 4.99874275e-08, 1.17654528e-03,\n",
              "       4.92990149e-10, 9.97735262e-01], dtype=float32)"
            ]
          },
          "metadata": {},
          "execution_count": 25
        }
      ]
    },
    {
      "cell_type": "markdown",
      "metadata": {
        "id": "in8293PtRiKi"
      },
      "source": [
        "A prediction is an array of 10 numbers. They represent the model's \"confidence\" that the image corresponds to each of the 10 different articles of clothing. You can see which label has the highest confidence value:"
      ]
    },
    {
      "cell_type": "code",
      "metadata": {
        "id": "oNj3TTN-fpMy",
        "colab": {
          "base_uri": "https://localhost:8080/"
        },
        "outputId": "0ba3083a-7e21-4118-b13f-6d923c85da95"
      },
      "source": [
        "np.argmax(predictions[0])"
      ],
      "execution_count": null,
      "outputs": [
        {
          "output_type": "execute_result",
          "data": {
            "text/plain": [
              "9"
            ]
          },
          "metadata": {},
          "execution_count": 26
        }
      ]
    },
    {
      "cell_type": "code",
      "metadata": {
        "id": "oGijqlOSfr6z",
        "colab": {
          "base_uri": "https://localhost:8080/"
        },
        "outputId": "e096bb62-aabf-4269-ff1b-1a629a3a28af"
      },
      "source": [
        "test_labels[0]"
      ],
      "execution_count": null,
      "outputs": [
        {
          "output_type": "execute_result",
          "data": {
            "text/plain": [
              "9"
            ]
          },
          "metadata": {},
          "execution_count": 27
        }
      ]
    },
    {
      "cell_type": "markdown",
      "metadata": {
        "id": "tz9QNZLQh9Zj"
      },
      "source": [
        "Graph this to look at the full set of 10 class predictions."
      ]
    },
    {
      "cell_type": "code",
      "metadata": {
        "id": "ZGMwTwqEh-NH"
      },
      "source": [
        "def plot_image(i, predictions_array, true_label, img):\n",
        "  predictions_array, true_label, img = predictions_array, true_label[i], img[i]\n",
        "  plt.grid(False)\n",
        "  plt.xticks([])\n",
        "  plt.yticks([])\n",
        "\n",
        "  plt.imshow(img, cmap=plt.cm.binary)\n",
        "\n",
        "  predicted_label = np.argmax(predictions_array)\n",
        "  if predicted_label == true_label:\n",
        "    color = 'blue'\n",
        "  else:\n",
        "    color = 'red'\n",
        "\n",
        "  plt.xlabel(\"{} {:2.0f}% ({})\".format(class_names[predicted_label],\n",
        "                                100*np.max(predictions_array),\n",
        "                                class_names[true_label]),\n",
        "                                color=color)\n",
        "\n",
        "def plot_value_array(i, predictions_array, true_label):\n",
        "  predictions_array, true_label = predictions_array, true_label[i]\n",
        "  plt.grid(False)\n",
        "  plt.xticks(range(10))\n",
        "  plt.yticks([])\n",
        "  thisplot = plt.bar(range(10), predictions_array, color=\"#777777\")\n",
        "  plt.ylim([0, 1])\n",
        "  predicted_label = np.argmax(predictions_array)\n",
        "\n",
        "  thisplot[predicted_label].set_color('red')\n",
        "  thisplot[true_label].set_color('blue')"
      ],
      "execution_count": null,
      "outputs": []
    },
    {
      "cell_type": "markdown",
      "metadata": {
        "id": "MTIg8SIC0d4H"
      },
      "source": [
        "Verify predictions"
      ]
    },
    {
      "cell_type": "code",
      "metadata": {
        "id": "96qv5ljb0nMq",
        "colab": {
          "base_uri": "https://localhost:8080/",
          "height": 211
        },
        "outputId": "b67a64a9-9eac-49dc-d2fd-8ccf0672a80e"
      },
      "source": [
        "i = 0\n",
        "plt.figure(figsize=(6,3))\n",
        "plt.subplot(1,2,1)\n",
        "plot_image(i, predictions[i], test_labels, test_images)\n",
        "plt.subplot(1,2,2)\n",
        "plot_value_array(i, predictions[i],  test_labels)\n",
        "plt.show()"
      ],
      "execution_count": null,
      "outputs": [
        {
          "output_type": "display_data",
          "data": {
            "text/plain": [
              "<Figure size 432x216 with 2 Axes>"
            ],
            "image/png": "[encoded data removed]"
          },
          "metadata": {
            "needs_background": "light"
          }
        }
      ]
    },
    {
      "cell_type": "markdown",
      "metadata": {
        "id": "Sp-h1XcZ1EUm"
      },
      "source": [
        "Let's plot several images with their predictions. Note that the model can be wrong even when very confident."
      ]
    },
    {
      "cell_type": "code",
      "metadata": {
        "id": "-SWMpSux1FTn",
        "colab": {
          "base_uri": "https://localhost:8080/",
          "height": 729
        },
        "outputId": "ee59e788-f719-4c0b-f642-9f8c08b87a4b"
      },
      "source": [
        "# Plot the first X test images, their predicted labels, and the true labels.\n",
        "# Color correct predictions in blue and incorrect predictions in red.\n",
        "num_rows = 5\n",
        "num_cols = 3\n",
        "num_images = num_rows*num_cols\n",
        "plt.figure(figsize=(2*2*num_cols, 2*num_rows))\n",
        "for i in range(num_images):\n",
        "  plt.subplot(num_rows, 2*num_cols, 2*i+1)\n",
        "  plot_image(i, predictions[i], test_labels, test_images)\n",
        "  plt.subplot(num_rows, 2*num_cols, 2*i+2)\n",
        "  plot_value_array(i, predictions[i], test_labels)\n",
        "plt.tight_layout()\n",
        "plt.show()"
      ],
      "execution_count": null,
      "outputs": [
        {
          "output_type": "display_data",
          "data": {
            "text/plain": [
              "<Figure size 864x720 with 30 Axes>"
            ],
            "image/png": "[encoded data removed]"
          },
          "metadata": {
            "needs_background": "light"
          }
        }
      ]
    },
    {
      "cell_type": "markdown",
      "metadata": {
        "id": "CPzhuEAj9CGW"
      },
      "source": [
        "use the trained model to make a prediction about a single image."
      ]
    },
    {
      "cell_type": "code",
      "metadata": {
        "id": "dP1eg5mE8-XI",
        "colab": {
          "base_uri": "https://localhost:8080/"
        },
        "outputId": "6f632ca5-89eb-495d-bcc3-24fc407f82b7"
      },
      "source": [
        "# Grab an image from the test dataset.\n",
        "n = 25\n",
        "img = test_images[n]\n",
        "\n",
        "print(img.shape)"
      ],
      "execution_count": null,
      "outputs": [
        {
          "output_type": "stream",
          "name": "stdout",
          "text": [
            "(28, 28)\n"
          ]
        }
      ]
    },
    {
      "cell_type": "code",
      "metadata": {
        "id": "-cv3Sksz9OG9",
        "colab": {
          "base_uri": "https://localhost:8080/"
        },
        "outputId": "a99862f5-7f19-4617-d594-84c8dfd550b2"
      },
      "source": [
        "# Add the image to a batch where it's the only member.\n",
        "img = (np.expand_dims(img,0))\n",
        "\n",
        "print(img.shape)"
      ],
      "execution_count": null,
      "outputs": [
        {
          "output_type": "stream",
          "name": "stdout",
          "text": [
            "(1, 28, 28)\n"
          ]
        }
      ]
    },
    {
      "cell_type": "code",
      "metadata": {
        "id": "Vl1ouiQ39U3o",
        "colab": {
          "base_uri": "https://localhost:8080/"
        },
        "outputId": "64aeeaec-deb6-40c2-d91f-7701fd912d99"
      },
      "source": [
        "predictions_single = probability_model.predict(img)\n",
        "\n",
        "print(predictions_single)"
      ],
      "execution_count": null,
      "outputs": [
        {
          "output_type": "stream",
          "name": "stdout",
          "text": [
            "[[8.4097002e-04 1.4889876e-05 7.8022885e-01 1.3896513e-04 1.2707451e-01\n",
            "  1.5689255e-07 9.1629565e-02 9.2203706e-08 6.6612512e-05 5.2513551e-06]]\n"
          ]
        }
      ]
    },
    {
      "cell_type": "code",
      "metadata": {
        "id": "V0MG3SCg9WuL",
        "colab": {
          "base_uri": "https://localhost:8080/",
          "height": 300
        },
        "outputId": "e31176b2-9c17-4023-c49d-2c947eac2b58"
      },
      "source": [
        "plot_value_array(1, predictions_single[0], test_labels)\n",
        "_ = plt.xticks(range(10), class_names, rotation=45)"
      ],
      "execution_count": null,
      "outputs": [
        {
          "output_type": "display_data",
          "data": {
            "text/plain": [
              "<Figure size 432x288 with 1 Axes>"
            ],
            "image/png": "[encoded data removed]"
          },
          "metadata": {
            "needs_background": "light"
          }
        }
      ]
    },
    {
      "cell_type": "code",
      "metadata": {
        "id": "kj68plDw9cZQ",
        "colab": {
          "base_uri": "https://localhost:8080/",
          "height": 265
        },
        "outputId": "6a3b8a2f-b5d3-4966-e51c-ce92229f918c"
      },
      "source": [
        "plt.imshow(test_images[n], cmap=plt.cm.binary)\n",
        "plt.show()"
      ],
      "execution_count": null,
      "outputs": [
        {
          "output_type": "display_data",
          "data": {
            "text/plain": [
              "<Figure size 432x288 with 1 Axes>"
            ],
            "image/png": "[encoded data removed]"
          },
          "metadata": {
            "needs_background": "light"
          }
        }
      ]
    },
    {
      "cell_type": "markdown",
      "metadata": {
        "id": "-aw4tVmhBX3N"
      },
      "source": [
        "Try another data set:  https://keras.io/datasets/\n",
        "Try to solve: https://www.kaggle.com/c/digit-recognizer"
      ]
    }
  ]
}